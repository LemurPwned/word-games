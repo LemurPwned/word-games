{
 "cells": [
  {
   "cell_type": "code",
   "execution_count": null,
   "id": "b540409b",
   "metadata": {},
   "outputs": [],
   "source": [
    "!git clone https://github.com/LemurPwned/word-games.git\n",
    "!cd word-games && pip install .\n",
    "!pip3 install matplotlib ipywidgets rich textual ipympl"
   ]
  },
  {
   "cell_type": "code",
   "execution_count": 3,
   "id": "d08b229e-47a7-4332-9529-7e7c820b93a7",
   "metadata": {},
   "outputs": [
    {
     "data": {
      "application/vnd.jupyter.widget-view+json": {
       "model_id": "ee97f84cfecb42598afdc632b025ad3a",
       "version_major": 2,
       "version_minor": 0
      },
      "text/plain": [
       "VBox(children=(HBox(children=(HTML(value='<div style=\"background-color: red; width: 50px; height: 50px; border…"
      ]
     },
     "metadata": {},
     "output_type": "display_data"
    }
   ],
   "source": [
    "import word_games.orlovski.diode as de\n",
    "\n",
    "dg = de.DiodeGameEngine()\n",
    "box = dg.ipythonwidgets_visual()\n",
    "box"
   ]
  },
  {
   "cell_type": "code",
   "execution_count": 4,
   "id": "011bb005-fa5f-49ec-a2ab-2929bc44a230",
   "metadata": {},
   "outputs": [
    {
     "data": {
      "application/vnd.jupyter.widget-view+json": {
       "model_id": "87ec2f0f92f24af9a4146089fbf41d78",
       "version_major": 2,
       "version_minor": 0
      },
      "text/plain": [
       "VBox(children=(HTML(value='<div>Score: 0/5</div>'), HBox(children=(Button(description='7591', style=ButtonStyl…"
      ]
     },
     "metadata": {},
     "output_type": "display_data"
    }
   ],
   "source": [
    "import word_games.orlovski.rules as ru\n",
    "\n",
    "dg = ru.RuleGameEngine()\n",
    "box = dg.ipythonwidgets_visual()\n",
    "box"
   ]
  },
  {
   "cell_type": "code",
   "execution_count": 33,
   "id": "1cbc1fb0-4e11-4880-86d8-9bdeb6b4a45c",
   "metadata": {},
   "outputs": [
    {
     "data": {
      "application/vnd.jupyter.widget-view+json": {
       "model_id": "e97a691874924a308ca8dff604d0067e",
       "version_major": 2,
       "version_minor": 0
      },
      "text/plain": [
       "interactive(children=(IntSlider(value=15, description='x', max=30), IntSlider(value=15, description='y', max=3…"
      ]
     },
     "metadata": {},
     "output_type": "display_data"
    }
   ],
   "source": [
    "import word_games.orlovski.calibrate as cal\n",
    "\n",
    "# uncomment this on collab\n",
    "# from google.colab import output\n",
    "# output.enable_custom_widget_manager()\n",
    "\n",
    "hide_hint = True\n",
    "engine = cal.x3DCalibrateEngine(30, 1, eps=5, hide_hint=hide_hint)\n",
    "engine.ipythonwidgets_visual()"
   ]
  }
 ],
 "metadata": {
  "kernelspec": {
   "display_name": "Python 3 (ipykernel)",
   "language": "python",
   "name": "python3"
  },
  "language_info": {
   "codemirror_mode": {
    "name": "ipython",
    "version": 3
   },
   "file_extension": ".py",
   "mimetype": "text/x-python",
   "name": "python",
   "nbconvert_exporter": "python",
   "pygments_lexer": "ipython3",
   "version": "3.9.13"
  },
  "vscode": {
   "interpreter": {
    "hash": "b0fa6594d8f4cbf19f97940f81e996739fb7646882a419484c72d19e05852a7e"
   }
  }
 },
 "nbformat": 4,
 "nbformat_minor": 5
}
